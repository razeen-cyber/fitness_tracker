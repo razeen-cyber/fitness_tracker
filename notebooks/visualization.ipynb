{
 "cells": [
  {
   "cell_type": "code",
   "execution_count": 1,
   "metadata": {},
   "outputs": [],
   "source": [
    "import pandas as pd\n",
    "import matplotlib.pyplot as plt\n",
    "import seaborn as sns"
   ]
  },
  {
   "cell_type": "code",
   "execution_count": 5,
   "metadata": {},
   "outputs": [
    {
     "data": {
      "text/html": [
       "<div>\n",
       "<style scoped>\n",
       "    .dataframe tbody tr th:only-of-type {\n",
       "        vertical-align: middle;\n",
       "    }\n",
       "\n",
       "    .dataframe tbody tr th {\n",
       "        vertical-align: top;\n",
       "    }\n",
       "\n",
       "    .dataframe thead th {\n",
       "        text-align: right;\n",
       "    }\n",
       "</style>\n",
       "<table border=\"1\" class=\"dataframe\">\n",
       "  <thead>\n",
       "    <tr style=\"text-align: right;\">\n",
       "      <th></th>\n",
       "      <th>acc_x</th>\n",
       "      <th>acc_y</th>\n",
       "      <th>acc_z</th>\n",
       "      <th>gyr_x</th>\n",
       "      <th>gyr_y</th>\n",
       "      <th>gyr_z</th>\n",
       "      <th>participant</th>\n",
       "      <th>label</th>\n",
       "      <th>category</th>\n",
       "      <th>set</th>\n",
       "    </tr>\n",
       "    <tr>\n",
       "      <th>epoch (ms)</th>\n",
       "      <th></th>\n",
       "      <th></th>\n",
       "      <th></th>\n",
       "      <th></th>\n",
       "      <th></th>\n",
       "      <th></th>\n",
       "      <th></th>\n",
       "      <th></th>\n",
       "      <th></th>\n",
       "      <th></th>\n",
       "    </tr>\n",
       "  </thead>\n",
       "  <tbody>\n",
       "    <tr>\n",
       "      <th>2019-01-11 15:08:05.200</th>\n",
       "      <td>0.013500</td>\n",
       "      <td>0.977000</td>\n",
       "      <td>-0.071000</td>\n",
       "      <td>-1.8904</td>\n",
       "      <td>2.4392</td>\n",
       "      <td>0.9388</td>\n",
       "      <td>B</td>\n",
       "      <td>bench</td>\n",
       "      <td>heavy</td>\n",
       "      <td>64</td>\n",
       "    </tr>\n",
       "    <tr>\n",
       "      <th>2019-01-11 15:08:05.400</th>\n",
       "      <td>-0.001500</td>\n",
       "      <td>0.970500</td>\n",
       "      <td>-0.079500</td>\n",
       "      <td>-1.6826</td>\n",
       "      <td>-0.8904</td>\n",
       "      <td>2.1708</td>\n",
       "      <td>B</td>\n",
       "      <td>bench</td>\n",
       "      <td>heavy</td>\n",
       "      <td>64</td>\n",
       "    </tr>\n",
       "    <tr>\n",
       "      <th>2019-01-11 15:08:05.600</th>\n",
       "      <td>0.001333</td>\n",
       "      <td>0.971667</td>\n",
       "      <td>-0.064333</td>\n",
       "      <td>2.5608</td>\n",
       "      <td>-0.2560</td>\n",
       "      <td>-1.4146</td>\n",
       "      <td>B</td>\n",
       "      <td>bench</td>\n",
       "      <td>heavy</td>\n",
       "      <td>64</td>\n",
       "    </tr>\n",
       "    <tr>\n",
       "      <th>2019-01-11 15:08:05.800</th>\n",
       "      <td>-0.024000</td>\n",
       "      <td>0.957000</td>\n",
       "      <td>-0.073500</td>\n",
       "      <td>8.0610</td>\n",
       "      <td>-4.5244</td>\n",
       "      <td>-2.0730</td>\n",
       "      <td>B</td>\n",
       "      <td>bench</td>\n",
       "      <td>heavy</td>\n",
       "      <td>64</td>\n",
       "    </tr>\n",
       "    <tr>\n",
       "      <th>2019-01-11 15:08:06.000</th>\n",
       "      <td>-0.028000</td>\n",
       "      <td>0.957667</td>\n",
       "      <td>-0.115000</td>\n",
       "      <td>2.4390</td>\n",
       "      <td>-1.5486</td>\n",
       "      <td>-3.6098</td>\n",
       "      <td>B</td>\n",
       "      <td>bench</td>\n",
       "      <td>heavy</td>\n",
       "      <td>64</td>\n",
       "    </tr>\n",
       "  </tbody>\n",
       "</table>\n",
       "</div>"
      ],
      "text/plain": [
       "                            acc_x     acc_y     acc_z   gyr_x   gyr_y   gyr_z  \\\n",
       "epoch (ms)                                                                      \n",
       "2019-01-11 15:08:05.200  0.013500  0.977000 -0.071000 -1.8904  2.4392  0.9388   \n",
       "2019-01-11 15:08:05.400 -0.001500  0.970500 -0.079500 -1.6826 -0.8904  2.1708   \n",
       "2019-01-11 15:08:05.600  0.001333  0.971667 -0.064333  2.5608 -0.2560 -1.4146   \n",
       "2019-01-11 15:08:05.800 -0.024000  0.957000 -0.073500  8.0610 -4.5244 -2.0730   \n",
       "2019-01-11 15:08:06.000 -0.028000  0.957667 -0.115000  2.4390 -1.5486 -3.6098   \n",
       "\n",
       "                        participant  label category  set  \n",
       "epoch (ms)                                                \n",
       "2019-01-11 15:08:05.200           B  bench    heavy   64  \n",
       "2019-01-11 15:08:05.400           B  bench    heavy   64  \n",
       "2019-01-11 15:08:05.600           B  bench    heavy   64  \n",
       "2019-01-11 15:08:05.800           B  bench    heavy   64  \n",
       "2019-01-11 15:08:06.000           B  bench    heavy   64  "
      ]
     },
     "execution_count": 5,
     "metadata": {},
     "output_type": "execute_result"
    }
   ],
   "source": [
    "df = pd.read_pickle('../data/interim/processed_data.pkl')\n",
    "df.head()"
   ]
  },
  {
   "cell_type": "code",
   "execution_count": 6,
   "metadata": {},
   "outputs": [
    {
     "data": {
      "text/plain": [
       "[Text(0.5, 1.0, 'Accelerometer_x value vs Type of Exercise')]"
      ]
     },
     "execution_count": 6,
     "metadata": {},
     "output_type": "execute_result"
    },
    {
     "data": {
      "image/png": "[encoded data removed]",
      "text/plain": [
       "<Figure size 640x480 with 1 Axes>"
      ]
     },
     "metadata": {},
     "output_type": "display_data"
    }
   ],
   "source": [
    "x = df['acc_x']\n",
    "y = df['label']\n",
    "sns.barplot(x=x, y = y, data = df, color = 'lightpink').set(title = \"Accelerometer_x value vs Type of Exercise\")"
   ]
  },
  {
   "cell_type": "code",
   "execution_count": null,
   "metadata": {},
   "outputs": [],
   "source": []
  }
 ],
 "metadata": {
  "kernelspec": {
   "display_name": "exercise-tracker",
   "language": "python",
   "name": "python3"
  },
  "language_info": {
   "codemirror_mode": {
    "name": "ipython",
    "version": 3
   },
   "file_extension": ".py",
   "mimetype": "text/x-python",
   "name": "python",
   "nbconvert_exporter": "python",
   "pygments_lexer": "ipython3",
   "version": "3.10.11"
  }
 },
 "nbformat": 4,
 "nbformat_minor": 2
}
